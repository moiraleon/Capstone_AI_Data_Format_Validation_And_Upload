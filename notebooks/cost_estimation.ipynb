{
 "cells": [
  {
   "cell_type": "code",
   "execution_count": 1,
   "metadata": {},
   "outputs": [
    {
     "name": "stdout",
     "output_type": "stream",
     "text": [
      "Requirement already satisfied: tiktoken in /Users/moleon/Documents/GitHub/Caspstone_AI_Data_Format_Validation/myenv/lib/python3.12/site-packages (0.7.0)\n",
      "Requirement already satisfied: regex>=2022.1.18 in /Users/moleon/Documents/GitHub/Caspstone_AI_Data_Format_Validation/myenv/lib/python3.12/site-packages (from tiktoken) (2024.5.15)\n",
      "Requirement already satisfied: requests>=2.26.0 in /Users/moleon/Documents/GitHub/Caspstone_AI_Data_Format_Validation/myenv/lib/python3.12/site-packages (from tiktoken) (2.32.3)\n",
      "Requirement already satisfied: charset-normalizer<4,>=2 in /Users/moleon/Documents/GitHub/Caspstone_AI_Data_Format_Validation/myenv/lib/python3.12/site-packages (from requests>=2.26.0->tiktoken) (3.3.2)\n",
      "Requirement already satisfied: idna<4,>=2.5 in /Users/moleon/Documents/GitHub/Caspstone_AI_Data_Format_Validation/myenv/lib/python3.12/site-packages (from requests>=2.26.0->tiktoken) (3.7)\n",
      "Requirement already satisfied: urllib3<3,>=1.21.1 in /Users/moleon/Documents/GitHub/Caspstone_AI_Data_Format_Validation/myenv/lib/python3.12/site-packages (from requests>=2.26.0->tiktoken) (2.2.2)\n",
      "Requirement already satisfied: certifi>=2017.4.17 in /Users/moleon/Documents/GitHub/Caspstone_AI_Data_Format_Validation/myenv/lib/python3.12/site-packages (from requests>=2.26.0->tiktoken) (2024.7.4)\n",
      "\n",
      "\u001b[1m[\u001b[0m\u001b[34;49mnotice\u001b[0m\u001b[1;39;49m]\u001b[0m\u001b[39;49m A new release of pip is available: \u001b[0m\u001b[31;49m24.0\u001b[0m\u001b[39;49m -> \u001b[0m\u001b[32;49m24.1.2\u001b[0m\n",
      "\u001b[1m[\u001b[0m\u001b[34;49mnotice\u001b[0m\u001b[1;39;49m]\u001b[0m\u001b[39;49m To update, run: \u001b[0m\u001b[32;49mpip install --upgrade pip\u001b[0m\n",
      "Note: you may need to restart the kernel to use updated packages.\n",
      "Total tokens in the dataset: 9279\n",
      "Estimated cost for fine-tuning: $0.28\n",
      "Estimated cost for inference: $0.02\n"
     ]
    }
   ],
   "source": [
    "# Install tiktoken if it's not already installed\n",
    "%pip install tiktoken\n",
    "\n",
    "# Import necessary libraries\n",
    "import json\n",
    "import tiktoken\n",
    "\n",
    "# Function to count tokens using tiktoken\n",
    "def count_tokens(text, model_name=\"gpt-3.5-turbo\"):\n",
    "    encoding = tiktoken.encoding_for_model(model_name)\n",
    "    return len(encoding.encode(text))\n",
    "\n",
    "# Load the dataset\n",
    "with open('../data/mvp_dataset.json', 'r') as f:\n",
    "    data = json.load(f)\n",
    "\n",
    "total_tokens = 0\n",
    "\n",
    "# Count tokens for each message in the dataset\n",
    "for entry in data:\n",
    "    for message in entry['messages']:\n",
    "        content = message['content']\n",
    "        if isinstance(content, dict):\n",
    "            # Convert dict to string if needed\n",
    "            content = json.dumps(content)\n",
    "        if isinstance(content, str):\n",
    "            total_tokens += count_tokens(content)\n",
    "        else:\n",
    "            print(f\"Skipping non-string content: {content}\")\n",
    "\n",
    "print(f\"Total tokens in the dataset: {total_tokens}\")\n",
    "\n",
    "# Define cost rates (as of the latest OpenAI pricing)\n",
    "cost_per_1000_tokens_finetune = 0.03  # Example rate for fine-tuning\n",
    "cost_per_1000_tokens_inference = 0.002  # Example rate for inference (using the model)\n",
    "\n",
    "# Calculate estimated costs\n",
    "total_cost_finetuning = (total_tokens / 1000) * cost_per_1000_tokens_finetune\n",
    "total_cost_inference = (total_tokens / 1000) * cost_per_1000_tokens_inference\n",
    "\n",
    "print(f\"Estimated cost for fine-tuning: ${total_cost_finetuning:.2f}\")\n",
    "print(f\"Estimated cost for inference: ${total_cost_inference:.2f}\")\n"
   ]
  }
 ],
 "metadata": {
  "kernelspec": {
   "display_name": "myenv",
   "language": "python",
   "name": "python3"
  },
  "language_info": {
   "codemirror_mode": {
    "name": "ipython",
    "version": 3
   },
   "file_extension": ".py",
   "mimetype": "text/x-python",
   "name": "python",
   "nbconvert_exporter": "python",
   "pygments_lexer": "ipython3",
   "version": "3.12.4"
  }
 },
 "nbformat": 4,
 "nbformat_minor": 2
}
