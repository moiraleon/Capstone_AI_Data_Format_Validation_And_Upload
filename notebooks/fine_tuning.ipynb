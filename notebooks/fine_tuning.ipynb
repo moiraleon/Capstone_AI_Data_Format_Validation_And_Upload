{
 "cells": [
  {
   "cell_type": "code",
   "execution_count": 3,
   "metadata": {},
   "outputs": [
    {
     "ename": "FileNotFoundError",
     "evalue": "[Errno 2] No such file or directory: '../data/chat_dataset.json'",
     "output_type": "error",
     "traceback": [
      "\u001b[0;31m---------------------------------------------------------------------------\u001b[0m",
      "\u001b[0;31mFileNotFoundError\u001b[0m                         Traceback (most recent call last)",
      "Cell \u001b[0;32mIn[3], line 6\u001b[0m\n\u001b[1;32m      3\u001b[0m \u001b[38;5;28;01mimport\u001b[39;00m \u001b[38;5;21;01mopenai\u001b[39;00m\n\u001b[1;32m      5\u001b[0m \u001b[38;5;66;03m# Load and prepare your dataset\u001b[39;00m\n\u001b[0;32m----> 6\u001b[0m \u001b[38;5;28;01mwith\u001b[39;00m \u001b[38;5;28;43mopen\u001b[39;49m\u001b[43m(\u001b[49m\u001b[38;5;124;43m'\u001b[39;49m\u001b[38;5;124;43m../data/chat_dataset.json\u001b[39;49m\u001b[38;5;124;43m'\u001b[39;49m\u001b[43m,\u001b[49m\u001b[43m \u001b[49m\u001b[38;5;124;43m'\u001b[39;49m\u001b[38;5;124;43mr\u001b[39;49m\u001b[38;5;124;43m'\u001b[39;49m\u001b[43m)\u001b[49m \u001b[38;5;28;01mas\u001b[39;00m f:\n\u001b[1;32m      7\u001b[0m     data \u001b[38;5;241m=\u001b[39m json\u001b[38;5;241m.\u001b[39mload(f)\n\u001b[1;32m      9\u001b[0m \u001b[38;5;66;03m# Prepare the data in JSONL format\u001b[39;00m\n",
      "File \u001b[0;32m~/Documents/GitHub/Caspstone_AI_Data_Format_Validation/myenv/lib/python3.12/site-packages/IPython/core/interactiveshell.py:324\u001b[0m, in \u001b[0;36m_modified_open\u001b[0;34m(file, *args, **kwargs)\u001b[0m\n\u001b[1;32m    317\u001b[0m \u001b[38;5;28;01mif\u001b[39;00m file \u001b[38;5;129;01min\u001b[39;00m {\u001b[38;5;241m0\u001b[39m, \u001b[38;5;241m1\u001b[39m, \u001b[38;5;241m2\u001b[39m}:\n\u001b[1;32m    318\u001b[0m     \u001b[38;5;28;01mraise\u001b[39;00m \u001b[38;5;167;01mValueError\u001b[39;00m(\n\u001b[1;32m    319\u001b[0m         \u001b[38;5;124mf\u001b[39m\u001b[38;5;124m\"\u001b[39m\u001b[38;5;124mIPython won\u001b[39m\u001b[38;5;124m'\u001b[39m\u001b[38;5;124mt let you open fd=\u001b[39m\u001b[38;5;132;01m{\u001b[39;00mfile\u001b[38;5;132;01m}\u001b[39;00m\u001b[38;5;124m by default \u001b[39m\u001b[38;5;124m\"\u001b[39m\n\u001b[1;32m    320\u001b[0m         \u001b[38;5;124m\"\u001b[39m\u001b[38;5;124mas it is likely to crash IPython. If you know what you are doing, \u001b[39m\u001b[38;5;124m\"\u001b[39m\n\u001b[1;32m    321\u001b[0m         \u001b[38;5;124m\"\u001b[39m\u001b[38;5;124myou can use builtins\u001b[39m\u001b[38;5;124m'\u001b[39m\u001b[38;5;124m open.\u001b[39m\u001b[38;5;124m\"\u001b[39m\n\u001b[1;32m    322\u001b[0m     )\n\u001b[0;32m--> 324\u001b[0m \u001b[38;5;28;01mreturn\u001b[39;00m \u001b[43mio_open\u001b[49m\u001b[43m(\u001b[49m\u001b[43mfile\u001b[49m\u001b[43m,\u001b[49m\u001b[43m \u001b[49m\u001b[38;5;241;43m*\u001b[39;49m\u001b[43margs\u001b[49m\u001b[43m,\u001b[49m\u001b[43m \u001b[49m\u001b[38;5;241;43m*\u001b[39;49m\u001b[38;5;241;43m*\u001b[39;49m\u001b[43mkwargs\u001b[49m\u001b[43m)\u001b[49m\n",
      "\u001b[0;31mFileNotFoundError\u001b[0m: [Errno 2] No such file or directory: '../data/chat_dataset.json'"
     ]
    }
   ],
   "source": [
    "# Import necessary libraries\n",
    "import json\n",
    "import openai\n",
    "\n",
    "# Load and prepare your dataset\n",
    "with open('../data/chat_dataset.json', 'r') as f:\n",
    "    data = json.load(f)\n",
    "\n",
    "# Prepare the data in JSONL format\n",
    "with open('../data/training_data.jsonl', 'w') as outfile:\n",
    "    for entry in data:\n",
    "        for message in entry['messages']:\n",
    "            if message['role'] == 'user':\n",
    "                prompt = message['content']\n",
    "            elif message['role'] == 'assistant':\n",
    "                completion = json.dumps(message['content'])\n",
    "                jsonl_entry = {\"prompt\": prompt, \"completion\": completion}\n",
    "                outfile.write(json.dumps(jsonl_entry) + \"\\n\")\n",
    "\n",
    "# Set up your OpenAI API key\n",
    "openai.api_key = 'your-api-key'\n",
    "\n",
    "# Upload the training file\n",
    "response = openai.File.create(\n",
    "    file=open(\"../data/training_data.jsonl\"),\n",
    "    purpose='fine-tune'\n",
    ")\n",
    "training_file_id = response['id']\n",
    "print(f\"Training file ID: {training_file_id}\")\n",
    "\n",
    "# Fine-tune the model\n",
    "fine_tune_response = openai.FineTune.create(\n",
    "    training_file=training_file_id,\n",
    "    model=\"curie\"  # or \"davinci\"\n",
    ")\n",
    "fine_tune_id = fine_tune_response['id']\n",
    "print(f\"Fine-tuning job ID: {fine_tune_id}\")\n",
    "\n",
    "# Check the status of the fine-tuning job\n",
    "status = openai.FineTune.retrieve(fine_tune_id)\n",
    "print(status)\n",
    "\n",
    "# Use the fine-tuned model\n",
    "response = openai.Completion.create(\n",
    "    model=fine_tune_id,  # Use the ID of the fine-tuned model\n",
    "    prompt=\"Provide a lesson plan on Introduction to Addition and Subtraction suitable for students with Dyslexia and ADHD, for Kindergarten through Grade 2.\",\n",
    "    max_tokens=1000\n",
    ")\n",
    "\n",
    "print(response['choices'][0]['text'])\n"
   ]
  }
 ],
 "metadata": {
  "kernelspec": {
   "display_name": "myenv",
   "language": "python",
   "name": "python3"
  },
  "language_info": {
   "codemirror_mode": {
    "name": "ipython",
    "version": 3
   },
   "file_extension": ".py",
   "mimetype": "text/x-python",
   "name": "python",
   "nbconvert_exporter": "python",
   "pygments_lexer": "ipython3",
   "version": "3.12.4"
  }
 },
 "nbformat": 4,
 "nbformat_minor": 2
}
