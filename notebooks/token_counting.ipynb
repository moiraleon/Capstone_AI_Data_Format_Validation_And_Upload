{
 "cells": [
  {
   "cell_type": "code",
   "execution_count": null,
   "metadata": {},
   "outputs": [],
   "source": [
    "\n",
    "# Import necessary libraries\n",
    "import json\n",
    "import tiktoken\n",
    "\n",
    "# Function to count tokens using tiktoken\n",
    "def count_tokens(text, model_name=\"gpt-3.5-turbo\"):\n",
    "    encoding = tiktoken.encoding_for_model(model_name)\n",
    "    return len(encoding.encode(text))\n",
    "\n",
    "# Load the dataset\n",
    "with open('../data/mvp_dataset.json', 'r') as f:\n",
    "    data = json.load(f)\n",
    "\n",
    "total_tokens = 0\n",
    "\n",
    "# Count tokens for each message in the dataset\n",
    "for entry in data:\n",
    "    for message in entry['messages']:\n",
    "        total_tokens += count_tokens(message['content'])\n",
    "\n",
    "print(f\"Total tokens in the dataset: {total_tokens}\")\n"
   ]
  }
 ],
 "metadata": {
  "language_info": {
   "name": "python"
  }
 },
 "nbformat": 4,
 "nbformat_minor": 2
}
